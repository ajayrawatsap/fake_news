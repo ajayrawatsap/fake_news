{
 "cells": [
  {
   "cell_type": "markdown",
   "metadata": {},
   "source": [
    "## Load Model"
   ]
  },
  {
   "cell_type": "code",
   "execution_count": 11,
   "metadata": {},
   "outputs": [],
   "source": [
    "from keras.models import load_model\n",
    "from keras.preprocessing.text import Tokenizer\n",
    "import pandas as pd\n",
    "import numpy as np\n",
    "import pickle\n",
    "model = load_model('fake_news.h5')\n",
    "\n",
    "tokenizer = Tokenizer()\n",
    "with open('tokenizer.pickel', 'rb') as handle:\n",
    "     tokenizer = pickle.load(handle)"
   ]
  },
  {
   "cell_type": "code",
   "execution_count": 15,
   "metadata": {},
   "outputs": [],
   "source": [
    "max_words = 20000\n",
    "def vectorize_sequences(sequences, dimensions = max_words):\n",
    "#   One hot encode\n",
    "    results = np.zeros((len(sequences), dimensions))\n",
    "    for i, sequences in enumerate(sequences):      \n",
    "        results[i, sequences] = 1\n",
    "    return results    "
   ]
  },
  {
   "cell_type": "markdown",
   "metadata": {},
   "source": [
    "### Read Sample data"
   ]
  },
  {
   "cell_type": "code",
   "execution_count": 12,
   "metadata": {},
   "outputs": [
    {
     "data": {
      "text/html": [
       "<div>\n",
       "<style scoped>\n",
       "    .dataframe tbody tr th:only-of-type {\n",
       "        vertical-align: middle;\n",
       "    }\n",
       "\n",
       "    .dataframe tbody tr th {\n",
       "        vertical-align: top;\n",
       "    }\n",
       "\n",
       "    .dataframe thead th {\n",
       "        text-align: right;\n",
       "    }\n",
       "</style>\n",
       "<table border=\"1\" class=\"dataframe\">\n",
       "  <thead>\n",
       "    <tr style=\"text-align: right;\">\n",
       "      <th></th>\n",
       "      <th>id</th>\n",
       "      <th>title</th>\n",
       "      <th>author</th>\n",
       "      <th>text</th>\n",
       "      <th>label</th>\n",
       "    </tr>\n",
       "  </thead>\n",
       "  <tbody>\n",
       "    <tr>\n",
       "      <th>0</th>\n",
       "      <td>1</td>\n",
       "      <td>Virginia Republican Wants Schools To Check Chi...</td>\n",
       "      <td>Colin Taylor</td>\n",
       "      <td>Republican attacks on transgendered Americans ...</td>\n",
       "      <td>1</td>\n",
       "    </tr>\n",
       "    <tr>\n",
       "      <th>1</th>\n",
       "      <td>2</td>\n",
       "      <td>Trump Just Insulted Millions Who Lost Everythi...</td>\n",
       "      <td>Brett Bose, Grant Stern, Steve Bernstein, Nata...</td>\n",
       "      <td>Hillary Clinton just called out the fact that ...</td>\n",
       "      <td>0</td>\n",
       "    </tr>\n",
       "    <tr>\n",
       "      <th>2</th>\n",
       "      <td>3</td>\n",
       "      <td>Another Terrorist Attack in NYC...Why Are we S...</td>\n",
       "      <td>Leonora Cravotta</td>\n",
       "      <td>On Saturday, September 17 at 8:30 pm EST, an e...</td>\n",
       "      <td>0</td>\n",
       "    </tr>\n",
       "    <tr>\n",
       "      <th>3</th>\n",
       "      <td>4</td>\n",
       "      <td>Trump: Drugs a 'Very, Very Big Factor' in Char...</td>\n",
       "      <td>ABC News</td>\n",
       "      <td>Less than a day after protests over the police...</td>\n",
       "      <td>0</td>\n",
       "    </tr>\n",
       "  </tbody>\n",
       "</table>\n",
       "</div>"
      ],
      "text/plain": [
       "   id                                              title  \\\n",
       "0   1  Virginia Republican Wants Schools To Check Chi...   \n",
       "1   2  Trump Just Insulted Millions Who Lost Everythi...   \n",
       "2   3  Another Terrorist Attack in NYC...Why Are we S...   \n",
       "3   4  Trump: Drugs a 'Very, Very Big Factor' in Char...   \n",
       "\n",
       "                                              author  \\\n",
       "0                                       Colin Taylor   \n",
       "1  Brett Bose, Grant Stern, Steve Bernstein, Nata...   \n",
       "2                                   Leonora Cravotta   \n",
       "3                                           ABC News   \n",
       "\n",
       "                                                text  label  \n",
       "0  Republican attacks on transgendered Americans ...      1  \n",
       "1  Hillary Clinton just called out the fact that ...      0  \n",
       "2  On Saturday, September 17 at 8:30 pm EST, an e...      0  \n",
       "3  Less than a day after protests over the police...      0  "
      ]
     },
     "execution_count": 12,
     "metadata": {},
     "output_type": "execute_result"
    }
   ],
   "source": [
    "sample = pd.read_csv('samples.csv')\n",
    "sample"
   ]
  },
  {
   "cell_type": "markdown",
   "metadata": {},
   "source": [
    "### Pre-Processing"
   ]
  },
  {
   "cell_type": "code",
   "execution_count": 16,
   "metadata": {},
   "outputs": [
    {
     "data": {
      "text/plain": [
       "(4, 20000)"
      ]
     },
     "execution_count": 16,
     "metadata": {},
     "output_type": "execute_result"
    }
   ],
   "source": [
    "sample['total']= sample['title']+' '+sample['author']+' '+sample['text']\n",
    "sample_texts = sample.total.tolist()\n",
    "sequences = tokenizer.texts_to_sequences(sample_texts)\n",
    "sample_data = np.array(sequences)\n",
    "X_sample = vectorize_sequences(sample_data)\n",
    "X_sample.shape"
   ]
  },
  {
   "cell_type": "markdown",
   "metadata": {},
   "source": [
    "### Predict"
   ]
  },
  {
   "cell_type": "code",
   "execution_count": 17,
   "metadata": {},
   "outputs": [
    {
     "data": {
      "text/plain": [
       "array([[0.9974329],\n",
       "       [0.9778373],\n",
       "       [0.8466018],\n",
       "       [0.9935959]], dtype=float32)"
      ]
     },
     "execution_count": 17,
     "metadata": {},
     "output_type": "execute_result"
    }
   ],
   "source": [
    "y_pred = model.predict(X_sample)\n",
    "y_pred"
   ]
  }
 ],
 "metadata": {
  "kernelspec": {
   "display_name": "Python 3",
   "language": "python",
   "name": "python3"
  },
  "language_info": {
   "codemirror_mode": {
    "name": "ipython",
    "version": 3
   },
   "file_extension": ".py",
   "mimetype": "text/x-python",
   "name": "python",
   "nbconvert_exporter": "python",
   "pygments_lexer": "ipython3",
   "version": "3.5.5"
  }
 },
 "nbformat": 4,
 "nbformat_minor": 2
}
