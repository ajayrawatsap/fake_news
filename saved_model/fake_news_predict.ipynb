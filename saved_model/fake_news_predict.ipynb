{
 "cells": [
  {
   "cell_type": "markdown",
   "metadata": {},
   "source": [
    "## Load Model"
   ]
  },
  {
   "cell_type": "code",
   "execution_count": 63,
   "metadata": {},
   "outputs": [],
   "source": [
    "from keras.models import load_model\n",
    "from keras.preprocessing.text import Tokenizer\n",
    "import pandas as pd\n",
    "import numpy as np\n",
    "import pickle\n",
    "model = load_model('fake_news.h5')\n",
    "\n",
    "tokenizer = Tokenizer()\n",
    "with open('tokenizer.pickel', 'rb') as handle:\n",
    "     tokenizer = pickle.load(handle)"
   ]
  },
  {
   "cell_type": "code",
   "execution_count": 64,
   "metadata": {},
   "outputs": [],
   "source": [
    "max_words = 20000\n",
    "def vectorize_sequences(sequences, dimensions = max_words):\n",
    "#   One hot encode\n",
    "    results = np.zeros((len(sequences), dimensions))\n",
    "    for i, sequences in enumerate(sequences):      \n",
    "        results[i, sequences] = 1\n",
    "    return results    "
   ]
  },
  {
   "cell_type": "markdown",
   "metadata": {},
   "source": [
    "### Read Sample data"
   ]
  },
  {
   "cell_type": "code",
   "execution_count": 65,
   "metadata": {},
   "outputs": [
    {
     "data": {
      "text/html": [
       "<div>\n",
       "<style scoped>\n",
       "    .dataframe tbody tr th:only-of-type {\n",
       "        vertical-align: middle;\n",
       "    }\n",
       "\n",
       "    .dataframe tbody tr th {\n",
       "        vertical-align: top;\n",
       "    }\n",
       "\n",
       "    .dataframe thead th {\n",
       "        text-align: right;\n",
       "    }\n",
       "</style>\n",
       "<table border=\"1\" class=\"dataframe\">\n",
       "  <thead>\n",
       "    <tr style=\"text-align: right;\">\n",
       "      <th></th>\n",
       "      <th>id</th>\n",
       "      <th>title</th>\n",
       "      <th>author</th>\n",
       "      <th>text</th>\n",
       "      <th>label</th>\n",
       "    </tr>\n",
       "  </thead>\n",
       "  <tbody>\n",
       "    <tr>\n",
       "      <th>0</th>\n",
       "      <td>1</td>\n",
       "      <td>Virginia Republican Wants Schools To Check Chi...</td>\n",
       "      <td>Colin Taylor</td>\n",
       "      <td>Republican attacks on transgendered Americans ...</td>\n",
       "      <td>1</td>\n",
       "    </tr>\n",
       "    <tr>\n",
       "      <th>1</th>\n",
       "      <td>2</td>\n",
       "      <td>Trump Just Insulted Millions Who Lost Everythi...</td>\n",
       "      <td>Brett Bose, Grant Stern, Steve Bernstein, Nata...</td>\n",
       "      <td>Hillary Clinton just called out the fact that ...</td>\n",
       "      <td>0</td>\n",
       "    </tr>\n",
       "    <tr>\n",
       "      <th>2</th>\n",
       "      <td>3</td>\n",
       "      <td>Another Terrorist Attack in NYC...Why Are we S...</td>\n",
       "      <td>Leonora Cravotta</td>\n",
       "      <td>On Saturday, September 17 at 8:30 pm EST, an e...</td>\n",
       "      <td>0</td>\n",
       "    </tr>\n",
       "    <tr>\n",
       "      <th>3</th>\n",
       "      <td>4</td>\n",
       "      <td>Trump: Drugs a 'Very, Very Big Factor' in Char...</td>\n",
       "      <td>ABC News</td>\n",
       "      <td>Less than a day after protests over the police...</td>\n",
       "      <td>0</td>\n",
       "    </tr>\n",
       "  </tbody>\n",
       "</table>\n",
       "</div>"
      ],
      "text/plain": [
       "   id                                              title  \\\n",
       "0   1  Virginia Republican Wants Schools To Check Chi...   \n",
       "1   2  Trump Just Insulted Millions Who Lost Everythi...   \n",
       "2   3  Another Terrorist Attack in NYC...Why Are we S...   \n",
       "3   4  Trump: Drugs a 'Very, Very Big Factor' in Char...   \n",
       "\n",
       "                                              author  \\\n",
       "0                                       Colin Taylor   \n",
       "1  Brett Bose, Grant Stern, Steve Bernstein, Nata...   \n",
       "2                                   Leonora Cravotta   \n",
       "3                                           ABC News   \n",
       "\n",
       "                                                text  label  \n",
       "0  Republican attacks on transgendered Americans ...      1  \n",
       "1  Hillary Clinton just called out the fact that ...      0  \n",
       "2  On Saturday, September 17 at 8:30 pm EST, an e...      0  \n",
       "3  Less than a day after protests over the police...      0  "
      ]
     },
     "execution_count": 65,
     "metadata": {},
     "output_type": "execute_result"
    }
   ],
   "source": [
    "sample = pd.read_csv('samples.csv')\n",
    "sample"
   ]
  },
  {
   "cell_type": "markdown",
   "metadata": {},
   "source": [
    "### Pre-Processing"
   ]
  },
  {
   "cell_type": "code",
   "execution_count": 66,
   "metadata": {},
   "outputs": [
    {
     "data": {
      "text/plain": [
       "(4, 20000)"
      ]
     },
     "execution_count": 66,
     "metadata": {},
     "output_type": "execute_result"
    }
   ],
   "source": [
    "sample['total']= sample['title']+' '+sample['author']+' '+sample['text']\n",
    "sample_texts = sample.total.tolist()\n",
    "sequences = tokenizer.texts_to_sequences(sample_texts)\n",
    "sample_data = np.array(sequences)\n",
    "X_sample = vectorize_sequences(sample_data)\n",
    "X_sample.shape"
   ]
  },
  {
   "cell_type": "markdown",
   "metadata": {},
   "source": [
    "### Predict"
   ]
  },
  {
   "cell_type": "code",
   "execution_count": 67,
   "metadata": {},
   "outputs": [
    {
     "data": {
      "text/plain": [
       "array([[0.9974329],\n",
       "       [0.9778373],\n",
       "       [0.8466018],\n",
       "       [0.9935959]], dtype=float32)"
      ]
     },
     "execution_count": 67,
     "metadata": {},
     "output_type": "execute_result"
    }
   ],
   "source": [
    "y_pred = model.predict(X_sample)\n",
    "y_pred"
   ]
  },
  {
   "cell_type": "markdown",
   "metadata": {},
   "source": [
    "## Predict Using News URL"
   ]
  },
  {
   "cell_type": "code",
   "execution_count": 78,
   "metadata": {},
   "outputs": [
    {
     "data": {
      "text/plain": [
       "['Flint Tap Water Rated More Trustworthy than Hillary Clinton  A new survey released today from the Make Michigan Great Again PAC shows that residents across the state rated Flint tap water higher on the ‘Trustworthiness’ scale than democratic nominee for President, Hillary Rodham Clinton.\\n\\nIn the ‘Most Trustworthy’ category, Hillary scored a dismal 14% among active registered voters while Flint tap water scored a surprising 49%.\\n\\n\\n\\n\\n\\nWhile the final tallies were a shock to many residents, MI Governor Rick Snyder isn’t surprised at all. “Well, what do you expect?” laughed Synder, “unlike the tap water in Flint, the folks here in Michigan can see right through that woman.”\\n\\nGovernor Snyder isn’t buying in to all the what he called “Hysterical hoopla” surrounding Flint’s water crisis, adding, “A lot of folks in Flint like to blame all of their problems on the water. We have a name for those types of people,” Snyder takes a pause for dramatic effect, “democrats.”\\n\\nOakland County resident Stanley Taylor agrees with the governor. “At some point you have to stop blaming the water for the fact your kids are dumb and lazy.” Asked if he was surprised by the survey results, Stan replied, “I would trust a fart after a Taco Bell run more than I’d ever trust Crooked Hillary.”\\n\\nPast findings from the Make Michigan Great Again PAC were also critical of Mrs. Clinton’s trustworthiness. “Hillary’s lies affects children’s brain development resulting in reduced intelligence quotient (IQ), behavioral changes such as shortening of attention span, increased antisocial behavior, and reduced educational attainment. Exposure to Hillary’s falsehoods can also cause anemia, hypertension, renal impairment, immunotoxicity and toxicity to reproductive organs. The neurological and behavioral effects of Clinton’s lies are believed to be irreversible.”']"
      ]
     },
     "execution_count": 78,
     "metadata": {},
     "output_type": "execute_result"
    }
   ],
   "source": [
    "from newspaper import Article\n",
    "url = 'http://nationalreport.net/flint-tap-water-rated-more-trustworthy-than-hillary-clinton/'\n",
    "\n",
    "#Parse the url and get title, author and text from URL\n",
    "article = Article(url)\n",
    "article.download()\n",
    "article.parse()\n",
    "authors = article.authors\n",
    "title = article.title\n",
    "text = article.text\n",
    "\n",
    "authors_text = ' '.join(authors)\n",
    "text_all =  [title+' ' +authors_text+' '+text]\n",
    "text_all"
   ]
  },
  {
   "cell_type": "code",
   "execution_count": 79,
   "metadata": {},
   "outputs": [
    {
     "data": {
      "text/plain": [
       "(1, 20000)"
      ]
     },
     "execution_count": 79,
     "metadata": {},
     "output_type": "execute_result"
    }
   ],
   "source": [
    "\n",
    "\n",
    "sequences = tokenizer.texts_to_sequences(text_all)\n",
    "sample_data = np.array(sequences)\n",
    "X_sample = vectorize_sequences(sample_data)\n",
    "X_sample.shape"
   ]
  },
  {
   "cell_type": "code",
   "execution_count": 80,
   "metadata": {},
   "outputs": [
    {
     "data": {
      "text/plain": [
       "array([0.99670285], dtype=float32)"
      ]
     },
     "execution_count": 80,
     "metadata": {},
     "output_type": "execute_result"
    }
   ],
   "source": [
    "y_pred = model.predict(X_sample).ravel()\n",
    "y_pred"
   ]
  }
 ],
 "metadata": {
  "kernelspec": {
   "display_name": "Python 3",
   "language": "python",
   "name": "python3"
  },
  "language_info": {
   "codemirror_mode": {
    "name": "ipython",
    "version": 3
   },
   "file_extension": ".py",
   "mimetype": "text/x-python",
   "name": "python",
   "nbconvert_exporter": "python",
   "pygments_lexer": "ipython3",
   "version": "3.5.5"
  }
 },
 "nbformat": 4,
 "nbformat_minor": 2
}
