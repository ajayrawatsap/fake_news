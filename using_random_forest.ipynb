{
 "cells": [
  {
   "cell_type": "raw",
   "metadata": {},
   "source": [
    "dataset taken from: https://www.kaggle.com/c/fake-news\n",
    "\n",
    "train.csv: A full training dataset with the following attributes:\n",
    "\n",
    "id: unique id for a news article\n",
    "title: the title of a news article\n",
    "author: author of the news article\n",
    "text: the text of the article; could be incomplete\n",
    "label: a label that marks the article as potentially unreliable\n",
    "1: unreliable\n",
    "0: reliable\n",
    "\n",
    "test.csv: A testing training dataset with all the same attributes at train.csv without the label."
   ]
  },
  {
   "cell_type": "code",
   "execution_count": 12,
   "metadata": {},
   "outputs": [],
   "source": [
    "import numpy as np\n",
    "import pandas as pd\n",
    "import seaborn as sns\n",
    "import matplotlib.pyplot as plt"
   ]
  },
  {
   "cell_type": "markdown",
   "metadata": {},
   "source": [
    "### Read Data"
   ]
  },
  {
   "cell_type": "code",
   "execution_count": 83,
   "metadata": {},
   "outputs": [
    {
     "data": {
      "text/html": [
       "<div>\n",
       "<style scoped>\n",
       "    .dataframe tbody tr th:only-of-type {\n",
       "        vertical-align: middle;\n",
       "    }\n",
       "\n",
       "    .dataframe tbody tr th {\n",
       "        vertical-align: top;\n",
       "    }\n",
       "\n",
       "    .dataframe thead th {\n",
       "        text-align: right;\n",
       "    }\n",
       "</style>\n",
       "<table border=\"1\" class=\"dataframe\">\n",
       "  <thead>\n",
       "    <tr style=\"text-align: right;\">\n",
       "      <th></th>\n",
       "      <th>id</th>\n",
       "      <th>title</th>\n",
       "      <th>author</th>\n",
       "      <th>text</th>\n",
       "      <th>label</th>\n",
       "    </tr>\n",
       "  </thead>\n",
       "  <tbody>\n",
       "    <tr>\n",
       "      <th>0</th>\n",
       "      <td>0</td>\n",
       "      <td>House Dem Aide: We Didn’t Even See Comey’s Let...</td>\n",
       "      <td>Darrell Lucus</td>\n",
       "      <td>House Dem Aide: We Didn’t Even See Comey’s Let...</td>\n",
       "      <td>1</td>\n",
       "    </tr>\n",
       "    <tr>\n",
       "      <th>1</th>\n",
       "      <td>1</td>\n",
       "      <td>FLYNN: Hillary Clinton, Big Woman on Campus - ...</td>\n",
       "      <td>Daniel J. Flynn</td>\n",
       "      <td>Ever get the feeling your life circles the rou...</td>\n",
       "      <td>0</td>\n",
       "    </tr>\n",
       "    <tr>\n",
       "      <th>2</th>\n",
       "      <td>2</td>\n",
       "      <td>Why the Truth Might Get You Fired</td>\n",
       "      <td>Consortiumnews.com</td>\n",
       "      <td>Why the Truth Might Get You Fired October 29, ...</td>\n",
       "      <td>1</td>\n",
       "    </tr>\n",
       "    <tr>\n",
       "      <th>3</th>\n",
       "      <td>3</td>\n",
       "      <td>15 Civilians Killed In Single US Airstrike Hav...</td>\n",
       "      <td>Jessica Purkiss</td>\n",
       "      <td>Videos 15 Civilians Killed In Single US Airstr...</td>\n",
       "      <td>1</td>\n",
       "    </tr>\n",
       "    <tr>\n",
       "      <th>4</th>\n",
       "      <td>4</td>\n",
       "      <td>Iranian woman jailed for fictional unpublished...</td>\n",
       "      <td>Howard Portnoy</td>\n",
       "      <td>Print \\nAn Iranian woman has been sentenced to...</td>\n",
       "      <td>1</td>\n",
       "    </tr>\n",
       "  </tbody>\n",
       "</table>\n",
       "</div>"
      ],
      "text/plain": [
       "   id                                              title              author  \\\n",
       "0   0  House Dem Aide: We Didn’t Even See Comey’s Let...       Darrell Lucus   \n",
       "1   1  FLYNN: Hillary Clinton, Big Woman on Campus - ...     Daniel J. Flynn   \n",
       "2   2                  Why the Truth Might Get You Fired  Consortiumnews.com   \n",
       "3   3  15 Civilians Killed In Single US Airstrike Hav...     Jessica Purkiss   \n",
       "4   4  Iranian woman jailed for fictional unpublished...      Howard Portnoy   \n",
       "\n",
       "                                                text  label  \n",
       "0  House Dem Aide: We Didn’t Even See Comey’s Let...      1  \n",
       "1  Ever get the feeling your life circles the rou...      0  \n",
       "2  Why the Truth Might Get You Fired October 29, ...      1  \n",
       "3  Videos 15 Civilians Killed In Single US Airstr...      1  \n",
       "4  Print \\nAn Iranian woman has been sentenced to...      1  "
      ]
     },
     "execution_count": 83,
     "metadata": {},
     "output_type": "execute_result"
    }
   ],
   "source": [
    "train = pd.read_csv('train.csv')\n",
    "test  = pd.read_csv('test.csv')\n",
    "train.head()"
   ]
  },
  {
   "cell_type": "code",
   "execution_count": 103,
   "metadata": {},
   "outputs": [
    {
     "data": {
      "text/html": [
       "<div>\n",
       "<style scoped>\n",
       "    .dataframe tbody tr th:only-of-type {\n",
       "        vertical-align: middle;\n",
       "    }\n",
       "\n",
       "    .dataframe tbody tr th {\n",
       "        vertical-align: top;\n",
       "    }\n",
       "\n",
       "    .dataframe thead th {\n",
       "        text-align: right;\n",
       "    }\n",
       "</style>\n",
       "<table border=\"1\" class=\"dataframe\">\n",
       "  <thead>\n",
       "    <tr style=\"text-align: right;\">\n",
       "      <th></th>\n",
       "      <th>id</th>\n",
       "      <th>title</th>\n",
       "      <th>author</th>\n",
       "      <th>text</th>\n",
       "      <th>total</th>\n",
       "    </tr>\n",
       "  </thead>\n",
       "  <tbody>\n",
       "    <tr>\n",
       "      <th>0</th>\n",
       "      <td>20800</td>\n",
       "      <td>Specter of Trump Loosens Tongues, if Not Purse...</td>\n",
       "      <td>David Streitfeld</td>\n",
       "      <td>PALO ALTO, Calif.  —   After years of scorning...</td>\n",
       "      <td>Specter of Trump Loosens Tongues, if Not Purse...</td>\n",
       "    </tr>\n",
       "    <tr>\n",
       "      <th>1</th>\n",
       "      <td>20801</td>\n",
       "      <td>Russian warships ready to strike terrorists ne...</td>\n",
       "      <td></td>\n",
       "      <td>Russian warships ready to strike terrorists ne...</td>\n",
       "      <td>Russian warships ready to strike terrorists ne...</td>\n",
       "    </tr>\n",
       "    <tr>\n",
       "      <th>2</th>\n",
       "      <td>20802</td>\n",
       "      <td>#NoDAPL: Native American Leaders Vow to Stay A...</td>\n",
       "      <td>Common Dreams</td>\n",
       "      <td>Videos #NoDAPL: Native American Leaders Vow to...</td>\n",
       "      <td>#NoDAPL: Native American Leaders Vow to Stay A...</td>\n",
       "    </tr>\n",
       "    <tr>\n",
       "      <th>3</th>\n",
       "      <td>20803</td>\n",
       "      <td>Tim Tebow Will Attempt Another Comeback, This ...</td>\n",
       "      <td>Daniel Victor</td>\n",
       "      <td>If at first you don’t succeed, try a different...</td>\n",
       "      <td>Tim Tebow Will Attempt Another Comeback, This ...</td>\n",
       "    </tr>\n",
       "    <tr>\n",
       "      <th>4</th>\n",
       "      <td>20804</td>\n",
       "      <td>Keiser Report: Meme Wars (E995)</td>\n",
       "      <td>Truth Broadcast Network</td>\n",
       "      <td>42 mins ago 1 Views 0 Comments 0 Likes 'For th...</td>\n",
       "      <td>Keiser Report: Meme Wars (E995) Truth Broadcas...</td>\n",
       "    </tr>\n",
       "  </tbody>\n",
       "</table>\n",
       "</div>"
      ],
      "text/plain": [
       "      id                                              title  \\\n",
       "0  20800  Specter of Trump Loosens Tongues, if Not Purse...   \n",
       "1  20801  Russian warships ready to strike terrorists ne...   \n",
       "2  20802  #NoDAPL: Native American Leaders Vow to Stay A...   \n",
       "3  20803  Tim Tebow Will Attempt Another Comeback, This ...   \n",
       "4  20804                    Keiser Report: Meme Wars (E995)   \n",
       "\n",
       "                    author                                               text  \\\n",
       "0         David Streitfeld  PALO ALTO, Calif.  —   After years of scorning...   \n",
       "1                           Russian warships ready to strike terrorists ne...   \n",
       "2            Common Dreams  Videos #NoDAPL: Native American Leaders Vow to...   \n",
       "3            Daniel Victor  If at first you don’t succeed, try a different...   \n",
       "4  Truth Broadcast Network  42 mins ago 1 Views 0 Comments 0 Likes 'For th...   \n",
       "\n",
       "                                               total  \n",
       "0  Specter of Trump Loosens Tongues, if Not Purse...  \n",
       "1  Russian warships ready to strike terrorists ne...  \n",
       "2  #NoDAPL: Native American Leaders Vow to Stay A...  \n",
       "3  Tim Tebow Will Attempt Another Comeback, This ...  \n",
       "4  Keiser Report: Meme Wars (E995) Truth Broadcas...  "
      ]
     },
     "execution_count": 103,
     "metadata": {},
     "output_type": "execute_result"
    }
   ],
   "source": [
    "test.head()"
   ]
  },
  {
   "cell_type": "markdown",
   "metadata": {},
   "source": [
    "###  Target Value Exploration"
   ]
  },
  {
   "cell_type": "code",
   "execution_count": 85,
   "metadata": {},
   "outputs": [
    {
     "data": {
      "image/png": "[encoded data removed]",
      "text/plain": [
       "<matplotlib.figure.Figure at 0x263be3abf60>"
      ]
     },
     "metadata": {},
     "output_type": "display_data"
    }
   ],
   "source": [
    "train['label_name'] = train['label'].map({0:'Real', 1:'Fake'})\n",
    "sns.countplot(train.label_name)\n",
    "plt.xlabel('Fake vs Real News count')\n",
    "plt.show()\n",
    "\n",
    "train.drop('label_name', axis=1, inplace=True)"
   ]
  },
  {
   "cell_type": "markdown",
   "metadata": {},
   "source": [
    "### Authors"
   ]
  },
  {
   "cell_type": "code",
   "execution_count": 86,
   "metadata": {},
   "outputs": [
    {
     "name": "stdout",
     "output_type": "stream",
     "text": [
      "Number of Distinct Authors: 4201\n"
     ]
    }
   ],
   "source": [
    "print('Number of Distinct Authors:',train['author'].value_counts().shape[0])"
   ]
  },
  {
   "cell_type": "markdown",
   "metadata": {},
   "source": [
    "### Sample News Text\n",
    "Display a Random News text"
   ]
  },
  {
   "cell_type": "code",
   "execution_count": 121,
   "metadata": {},
   "outputs": [
    {
     "name": "stdout",
     "output_type": "stream",
     "text": [
      "Fake News\n",
      "Author: Philip Giraldi\n"
     ]
    },
    {
     "data": {
      "text/plain": [
       "'Written by Philip Giraldi Tuesday November 8, 2016 The American people don’t know very much about war even if Washington has been fighting on multiple fronts since 9/11. The continental United States has not experienced the presence a hostile military force for more than 100 years and war for the current generation of Americans consists largely of the insights provided by video games and movies. The Pentagon’s invention of embedded journalists, which limits any independent media insight into what is going on overseas, has contributed to the rendering of war as some kind of abstraction. Gone forever is anything like the press coverage of Vietnam, with nightly news and other media presentations showing prisoners being executed and young girls screaming while racing down the street in flames. Given all of that, it is perhaps no surprise that both Hillary Clinton and Donald Trump, neither of whom has served in uniform, should regard violence inflicted on people overseas with a considerable level of detachment. Hillary is notorious for her assessment of the brutal killing of Libya’s Moammar Gaddafi, saying “We came, we saw, he died.” They both share to an extent the dominant New York-Washington policy consensus view that dealing with foreigners can sometimes get a bit bloody, but that is a price that someone in power has to be prepared to pay. One of Hillary’s top advisers, former Secretary of State Madeleine Albright, famously declared that the deaths of 500,000 Iraqi children due to US led sanctions were “worth it.” In the election campaign there has, in fact, been little discussion of the issue of war and peace or even of America’s place in the world, though Trump did at one point note correctly that implementation of Hillary’s suggested foreign policy could escalate into World War III. It has been my contention that the issue of war should be more front and center in the minds of Americans when they cast their ballots as the prospect of an armed conflict in which little is actually at stake escalating and going nuclear could conceivably end life on this planet as we know it. With that in mind, it is useful to consider what the two candidates have been promising. First, Hillary, who might reasonably be designated the Establishment’s war candidate though she carefully wraps it in humanitarian “liberal interventionism.” As Senator and Secretary of State, Hillary Clinton has always viewed a foreign crisis as an opportunity to use aggressive measures to seek a resolution. She can always be relied upon to “do something,” a reflection of the neocon driven Washington foreign policy consensus. Hillary Clinton and her advisors, who believe strongly in Washington’s leadership role globally and embrace their own definition of American exceptionalism, have been explicit in terms of what they would do to employ our military power. She would be an extremely proactive president in foreign policy, with a particular animus directed against Russia. And, unfortunately, there would be little or no pushback against the exercise of her admittedly poor instincts regarding what to do, as was demonstrated regarding Libya and also with Benghazi. She would find little opposition in Congress and the media for an extremely risky foreign policy, and would benefit from the Washington groupthink that prevails over the alleged threats emanating from Russia, Iran, and China. Hillary has received support from foreign policy hawks, including a large number of formerly Republican neocons, to include Robert Kagan, Michael Chertoff, Michael Hayden, Eliot Cohen and Eric Edelman. James Stavridis, a retired admiral who was once vetted by Clinton as a possible vice president, recently warned of “the need to use deadly force against the Iranians. I think it’s coming. It’s going to be maritime confrontation and if it doesn’t happen immediately, I’ll bet you a dollar it’s going to be happening after the presidential election, whoever is elected.” Hillary believes that Syria’s president Bashar al-Assad is the root cause of the turmoil in that country and must be removed as the first priority. It is a foolish policy as al-Assad in no way threatens the United States while his enemy ISIS does and regime change would create a power vacuum that will benefit the latter. She has also called for a no-fly zone in Syria to protect the local population as well as the insurgent groups that the US supports, some of which had been labeled as terrorists before they were renamed by current Secretary of State John Kerry. Such a zone would dramatically raise the prospect of armed conflict with Russia and it puts Washington in an odd position vis-à-vis what is occurring in Syria. The US is not at war with the Syrian government, which, like it or not, is under international law sovereign within its own recognized borders. Damascus has invited the Russians in to help against the rebels and objects to any other foreign presence on Syrian territory. In spite of all that, Washington is asserting some kind of authority to intervene and to confront the Russians as both a humanitarian mission and as an “inherent right of self-defense.” Hillary has not recommended doing anything about Saudi Arabia, Qatar and Turkey, all of which have at one time or another for various reasons supported ISIS, but she is clearly no friend of Iran, which has been fighting ISIS. As a Senator, she threatened to “totally obliterate” Iran but she has more recently reluctantly supported the recent nuclear agreement with that country negotiated by President Barack Obama. But she has nevertheless warned that she will monitor the situation closely for possible violations and will otherwise pushback against activity by the Islamic Republic. As one of her key financial supporters is Israeli Haim Saban, who has said he is a one issue guy and that issue is Israel, she is likely to pursue aggressive policies in the Persian Gulf. She has also promised to move America’s relationship with Prime Minister Benjamin Netanyahu to a “new level” and has repeatedly declared that her support for Israel is unconditional. One of Hillary’s advisors, former CIA acting Director Michael Morell, has called for new sanctions on Tehran and has also recently recommended that the US begin intercepting Iranian ships presumed to be carrying arms to the Houthis in Yemen. Washington is not at war with either Iran or Yemen and the Houthis are not on the State Department terrorist list but our good friends the Saudis have been assiduously bombing them for reasons that seem obscure. Stopping ships in international waters without any legal pretext would be considered by many an act of piracy. Morell has also called for covertly assassinating Iranians and Russians to express our displeasure with the foreign policies of their respective governments. Hillary’s dislike for Russia’s Vladimir Putin is notorious. Syria aside, she has advocated arming Ukraine with game changing offensive weapons and also bringing Ukraine and Georgia into NATO, which would force a sharp Russian reaction. One suspects that she might be sympathetic to the views expressed recently by Carl Gershman in a Washington Post op-ed that received curiously little additional coverage in the media. Gershman is the head of the taxpayer funded National Endowment for Democracy (NED), which means that he is a powerful figure in Washington’s foreign-policy establishment. NED has plausibly been described as doing the sorts of things that the CIA used to do. After making a number of bumper-sticker claims about Russia and Putin that are either partially true, unproven or even ridiculous, Gershman concluded that “the United States has the power to contain and defeat this danger. The issue is whether we can summon the will to do so.” It is basically a call for the next administration to remove Putin from power—as foolish a suggestion as has ever been seen in a leading newspaper, as it implies that the risk of nuclear war is completely acceptable to bring about regime change in a country whose very popular, democratically elected leadership we disapprove of. But it is nevertheless symptomatic of the kind of thinking that goes on inside the beltway and is quite possibly a position that Hillary Clinton will embrace. She also benefits from having the perfect implementer of such a policy in Robert Kagan’s wife Victoria Nuland, her extremely dangerous protégé who is currently Assistant Secretary of State for European and Eurasian Affairs and who might wind up as Secretary of State in a Clinton Administration. Shifting to East Asia, Hillary sees the admittedly genuine threat from North Korea but her response is focused more on China. She would increase US military presence in the South China Sea to deter any further attempts by Beijing to develop disputed islands and would also “ring China with defensive missiles,” ostensibly as “protection” against Pyongyang but also to convince China to pressure North Korea over its nuclear and ballistic missile programs. One wonders what Beijing might think about being surrounded by made-in-America missiles. Trump’s foreign policy is admittedly quite sketchy and he has not always been consistent. He has been appropriately enough slammed for being simple minded in saying that he would “bomb the crap out of ISIS,” but he has also taken on the Republican establishment by specifically condemning the George W. Bush invasion of Iraq and has more than once indicated that he is not interested in either being the world’s policeman or in new wars in the Middle East. He has repeatedly stated that he supports NATO but it should not be construed as hostile to Russia. He would work with Putin to address concerns over Syria and Eastern Europe. He would demand that NATO countries spend more for their own defense and also help pay for the maintenance of US bases. Trump’s controversial call to stop all Muslim immigration has been rightly condemned but it contains a kernel of truth in that the current process for vetting new arrivals in this country is far from transparent and apparently not very effective. The Obama Administration has not been very forthcoming on what might be done to fix the entire immigration process but Trump is promising to shake things up, which is overdue, though what exactly a Trump Administration would try to accomplish is far from clear. Continuing on the negative side, Trump, who is largely ignorant of the world and its leaders, has relied on a mixed bag of advisors. Former head of the Defense Intelligence Agency General Michael Flynn appears to be the most prominent. Flynn is associated with arch neocon Michael Ledeen and both are rabid about Iran, with Flynn suggesting that nearly all the unrest in the Middle East should be laid at Tehran’s door. Ledeen is, of course, a prominent Israel-firster who has long had Iran in his sights. The advice of Ledeen and Flynn may have been instrumental in Trump’s vehement denunciation of the Iran nuclear agreement, which he has called a “disgrace,” which he has said he would “tear up.” It is vintage dumb-think. The agreement cannot be canceled because there are five other signatories to it and the denial of a nuclear weapons program to Tehran benefits everyone in the region, including Israel. It is far better to have the agreement than to scrap it, if that were even possible. Trump has said that he would be an even-handed negotiator between Israel and the Palestinians but he has also declared that he is strongly pro-Israel and would move the US Embassy to Jerusalem, which is a bad idea, not in America’s interest, even if Netanyahu would like it. It would produce serious blowback from the Arab world and would inspire a new wave of terrorism directed against the US Regarding the rest of the Middle East, Trump would prefer strong leaders, i.e. autocrats, who are friendly rather than chaotic reformers. He rejects arming rebels as in Syria because we know little about whom we are dealing with and find that we cannot control what develops. He is against foreign aid in principle, particularly to countries like Pakistan where the US is strongly disliked. In East Asia, Trump would encourage Japan and South Korea to develop their own nuclear arsenals to deter North Korea. It is a very bad idea, a proliferation nightmare. Like Hillary, he would prefer that China intervene in North Korea and make Kim Jong Un “step down.” He would put pressure on China to devalue its currency because it is “bilking us of billions of dollars” and would also increase US military presence in the region to limit Beijing’s expansion in the South China Sea. So there you have it as you enter the voting booth. President Obama is going around warning that “the fate of the world is teetering” over the electoral verdict, which he intends to be a ringing endorsement of Hillary even though the choice is not nearly that clear cut. Part of the problem with Trump is that he has some very bad ideas mixed in with a few good ones and no one knows what he would actually do if he were president. Unfortunately, it is all too clear what Hillary would do. Reprinted with permission from the Unz Review . Related'"
      ]
     },
     "execution_count": 121,
     "metadata": {},
     "output_type": "execute_result"
    }
   ],
   "source": [
    "import random\n",
    "rand_index = random.randint(0, 20000)\n",
    "if train.label[rand_index] == 0:\n",
    "   print('Real News')\n",
    "else:\n",
    "  print('Fake News')\n",
    "\n",
    "print('Author:', train.author[rand_index])\n",
    "train.text[rand_index]\n"
   ]
  },
  {
   "cell_type": "markdown",
   "metadata": {},
   "source": [
    "## Missing data"
   ]
  },
  {
   "cell_type": "code",
   "execution_count": 88,
   "metadata": {
    "collapsed": true
   },
   "outputs": [],
   "source": [
    "def missing_data(data):\n",
    "    total = data.isnull().sum().sort_values(ascending = False)\n",
    "    percent= (data.isnull().sum() * 100 / data.isnull().count() ).sort_values(ascending = False)\n",
    "    df = pd.concat([total, percent], axis = 1, keys = ['Total', 'Percent'])\n",
    "    return df[df['Total'] != 0]"
   ]
  },
  {
   "cell_type": "code",
   "execution_count": 38,
   "metadata": {},
   "outputs": [
    {
     "data": {
      "text/html": [
       "<div>\n",
       "<style scoped>\n",
       "    .dataframe tbody tr th:only-of-type {\n",
       "        vertical-align: middle;\n",
       "    }\n",
       "\n",
       "    .dataframe tbody tr th {\n",
       "        vertical-align: top;\n",
       "    }\n",
       "\n",
       "    .dataframe thead th {\n",
       "        text-align: right;\n",
       "    }\n",
       "</style>\n",
       "<table border=\"1\" class=\"dataframe\">\n",
       "  <thead>\n",
       "    <tr style=\"text-align: right;\">\n",
       "      <th></th>\n",
       "      <th>Total</th>\n",
       "      <th>Percent</th>\n",
       "    </tr>\n",
       "  </thead>\n",
       "  <tbody>\n",
       "    <tr>\n",
       "      <th>author</th>\n",
       "      <td>1957</td>\n",
       "      <td>9.408654</td>\n",
       "    </tr>\n",
       "    <tr>\n",
       "      <th>title</th>\n",
       "      <td>558</td>\n",
       "      <td>2.682692</td>\n",
       "    </tr>\n",
       "    <tr>\n",
       "      <th>text</th>\n",
       "      <td>39</td>\n",
       "      <td>0.187500</td>\n",
       "    </tr>\n",
       "  </tbody>\n",
       "</table>\n",
       "</div>"
      ],
      "text/plain": [
       "        Total   Percent\n",
       "author   1957  9.408654\n",
       "title     558  2.682692\n",
       "text       39  0.187500"
      ]
     },
     "execution_count": 38,
     "metadata": {},
     "output_type": "execute_result"
    }
   ],
   "source": [
    "missing_data(train)"
   ]
  },
  {
   "cell_type": "markdown",
   "metadata": {},
   "source": [
    "### Data Pre-Processing"
   ]
  },
  {
   "cell_type": "code",
   "execution_count": 89,
   "metadata": {
    "collapsed": true
   },
   "outputs": [],
   "source": [
    "from sklearn.feature_extraction.text import CountVectorizer, TfidfTransformer\n",
    "from sklearn.model_selection import train_test_split"
   ]
  },
  {
   "cell_type": "code",
   "execution_count": 90,
   "metadata": {},
   "outputs": [],
   "source": [
    "train = train.fillna('')\n",
    "test =  test.fillna('')"
   ]
  },
  {
   "cell_type": "code",
   "execution_count": 91,
   "metadata": {
    "collapsed": true
   },
   "outputs": [],
   "source": [
    "train['total']=train['title']+' '+train['author']+' '+train['text']\n",
    "test['total']= test['title']+' '+test['author']+' '+test['text']"
   ]
  },
  {
   "cell_type": "code",
   "execution_count": 92,
   "metadata": {},
   "outputs": [],
   "source": [
    "#tfidf\n",
    "transformer = TfidfTransformer(smooth_idf= False)\n",
    "count_vectorizer = CountVectorizer(ngram_range= (1,2))\n",
    "counts = count_vectorizer.fit_transform(train['total'].values)\n",
    "tfidf =  transformer.fit_transform(counts)"
   ]
  },
  {
   "cell_type": "code",
   "execution_count": 95,
   "metadata": {},
   "outputs": [
    {
     "name": "stderr",
     "output_type": "stream",
     "text": [
      "C:\\Users\\I056036\\AppData\\Local\\Continuum\\anaconda3\\lib\\site-packages\\sklearn\\feature_extraction\\text.py:1222: RuntimeWarning: divide by zero encountered in true_divide\n",
      "  idf = np.log(n_samples / df) + 1\n"
     ]
    }
   ],
   "source": [
    "#Prepare Test data\n",
    "targets = train['label'].values\n",
    "test_counts = count_vectorizer.transform(test['total'].values)\n",
    "X_test = transformer.fit_transform(test_counts)"
   ]
  },
  {
   "cell_type": "code",
   "execution_count": 96,
   "metadata": {
    "collapsed": true
   },
   "outputs": [],
   "source": [
    "## Split Train and Validation data\n",
    "X_train, X_valid, y_train, y_valid = train_test_split(tfidf, targets, random_state = 42, )"
   ]
  },
  {
   "cell_type": "markdown",
   "metadata": {},
   "source": [
    "## Random Forest"
   ]
  },
  {
   "cell_type": "code",
   "execution_count": 114,
   "metadata": {},
   "outputs": [
    {
     "name": "stdout",
     "output_type": "stream",
     "text": [
      "Training Accuracy 1.00000\n",
      "Validation Accuracy 0.92192\n"
     ]
    }
   ],
   "source": [
    "from sklearn.ensemble import RandomForestClassifier\n",
    "from sklearn.metrics import accuracy_score\n",
    "rf = RandomForestClassifier(n_estimators= 100)\n",
    "rf.fit(X_train, y_train)\n",
    "y_pred = rf.predict(X_train)\n",
    "print('Training Accuracy %0.5f' %accuracy_score(y_train, y_pred))\n",
    "\n",
    "#Predict on Validation Set\n",
    "y_pred = rf.predict(X_valid)\n",
    "print('Validation Accuracy %0.5f' %accuracy_score(y_valid, y_pred))"
   ]
  },
  {
   "cell_type": "markdown",
   "metadata": {},
   "source": [
    "#### Predict on test Set\n",
    "The submission with prediction on Test set Achived a 92 perecent accuracy on kaggle "
   ]
  },
  {
   "cell_type": "code",
   "execution_count": 116,
   "metadata": {},
   "outputs": [],
   "source": [
    "y_pred = rf.predict(X_test)\n",
    "test_pred = pd.DataFrame(y_pred, columns= ['label'])\n",
    "test_pred['id'] = test['id']\n",
    "test_pred.to_csv('rf_preds.csv', index = False)"
   ]
  }
 ],
 "metadata": {
  "kernelspec": {
   "display_name": "Python 3",
   "language": "python",
   "name": "python3"
  },
  "language_info": {
   "codemirror_mode": {
    "name": "ipython",
    "version": 3
   },
   "file_extension": ".py",
   "mimetype": "text/x-python",
   "name": "python",
   "nbconvert_exporter": "python",
   "pygments_lexer": "ipython3",
   "version": "3.6.2"
  }
 },
 "nbformat": 4,
 "nbformat_minor": 2
}
